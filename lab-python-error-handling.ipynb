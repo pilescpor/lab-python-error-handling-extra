{
 "cells": [
  {
   "cell_type": "markdown",
   "id": "25d7736c-ba17-4aff-b6bb-66eba20fbf4e",
   "metadata": {},
   "source": [
    "# Lab | Error Handling"
   ]
  },
  {
   "cell_type": "markdown",
   "id": "6f8e446f-16b4-4e21-92e7-9d3d1eb551b6",
   "metadata": {},
   "source": [
    "Objective: Practice how to identify, handle and recover from potential errors in Python code using try-except blocks."
   ]
  },
  {
   "cell_type": "markdown",
   "id": "e253e768-aed8-4791-a800-87add1204afa",
   "metadata": {},
   "source": [
    "## Challenge \n",
    "\n",
    "Paste here your lab *functions* solutions. Apply error handling techniques to each function using try-except blocks. "
   ]
  },
  {
   "cell_type": "markdown",
   "id": "9180ff86-c3fe-4152-a609-081a287fa1af",
   "metadata": {},
   "source": [
    "The try-except block in Python is designed to handle exceptions and provide a fallback mechanism when code encounters errors. By enclosing the code that could potentially throw errors in a try block, followed by specific or general exception handling in the except block, we can gracefully recover from errors and continue program execution.\n",
    "\n",
    "However, there may be cases where an input may not produce an immediate error, but still needs to be addressed. In such situations, it can be useful to explicitly raise an error using the \"raise\" keyword, either to draw attention to the issue or handle it elsewhere in the program.\n",
    "\n",
    "Modify the code to handle possible errors in Python, it is recommended to use `try-except-else-finally` blocks, incorporate the `raise` keyword where necessary, and print meaningful error messages to alert users of any issues that may occur during program execution.\n",
    "\n"
   ]
  },
  {
   "cell_type": "code",
   "execution_count": 1,
   "id": "cc2c441d-9dcf-4817-b097-cf6cbe440846",
   "metadata": {},
   "outputs": [],
   "source": [
    "def initialize_inventory(products):\n",
    "    inventory ={}\n",
    "    for product in products:\n",
    "        valid_quantity = False\n",
    "        while not valid_quantity:\n",
    "            try:\n",
    "                quantity = int(input(\"Which is the quantity of the product \" + product + \"?\"))\n",
    "                if quantity < 0:\n",
    "                    raise ValueError(\"Invalid quantity! Please enter a non-negative value.\")\n",
    "                valid_quantity = True\n",
    "            except ValueError as error:\n",
    "                print(f\"Error: {error}\")\n",
    "        inventory[product] = quantity\n",
    "    return inventory\n",
    "\n",
    "def get_customer_orders(products):\n",
    "    customer_orders = set()\n",
    "    valid_order = False\n",
    "    num_products = 0\n",
    "    while not valid_order:\n",
    "        try:\n",
    "            num_products = int(input(\"How many products do you order?\"))\n",
    "            if num_products < 0:\n",
    "                raise ValueError(\"Invalid order! Please enter a non-negative value.\")\n",
    "            valid_order = True\n",
    "        except ValueError as error:\n",
    "            print(f\"Error: {error}\")\n",
    "    while len(customer_orders) < num_products:       \n",
    "        try:\n",
    "            product = input(\"Which product do you want to add?\")\n",
    "            if product not in products:\n",
    "                raise ValueError(\"Invalid product! Please enter a valid product.\")\n",
    "            else: \n",
    "                customer_orders.add(product)\n",
    "        except ValueError as error:\n",
    "            print(f\"Error: {error}\")\n",
    "    return customer_orders\n",
    "\n",
    "def print_order_statistics(order_statistics):\n",
    "    print(\n",
    "    '''\n",
    "    Order Statistics:\n",
    "    Total Products Ordered: {}\n",
    "    Percentage of Products Ordered: {}% \n",
    "    '''.format(order_statistics[0],order_statistics[1])\n",
    "    )\n",
    "\n",
    "def update_inventory(customer_orders, inventory):\n",
    "    inventory = {product: quantity - 1  if product in customer_orders else quantity for product, quantity in inventory.items()}\n",
    "    return inventory\n",
    "\n",
    "def print_updated_inventory(inventory):\n",
    "    for product, quantity in inventory.items():\n",
    "        print(\"The quantity of the product {} is {}\".format(product,quantity))\n",
    "\n",
    "def calculate_order_statistics(customer_orders, products):\n",
    "    total_products_ordered = len(customer_orders)\n",
    "    percentage_ordered = total_products_ordered/len(products)*100\n",
    "    return (total_products_ordered, percentage_ordered)\n",
    "\n",
    "def price(customer_orders):\n",
    "    prices = {}\n",
    "    for product in customer_orders:\n",
    "        valid_price = False\n",
    "        while not valid_price:\n",
    "            try:\n",
    "                quantity = int(input(f\"What is the price of the {product}?\"))\n",
    "                if quantity < 0:\n",
    "                    raise ValueError(\"Invalid price! Please enter a valid price.\")\n",
    "                valid_price = True\n",
    "                prices[product] = quantity\n",
    "            except ValueError as error:\n",
    "                print(f\"Error: {error}\")             \n",
    "    return prices\n",
    "\n",
    "def print_price(prices):\n",
    "    for product, price in prices.items():\n",
    "        print(\"The price of the product {} is {}\".format(product,price))\n",
    "def total_price(prices):\n",
    "    print(f\"Total price: {sum(prices.values())}\")\n",
    "\n"
   ]
  },
  {
   "cell_type": "code",
   "execution_count": null,
   "id": "46f52534",
   "metadata": {},
   "outputs": [],
   "source": [
    "products = [\"t-shirt\", \"mug\", \"hat\", \"book\", \"keychain\"]\n",
    "inventory = initialize_inventory(products)\n",
    "print(\"Initial inventory:\")\n",
    "print_updated_inventory(inventory)\n",
    "customer_orders = get_customer_orders(products)\n",
    "inventory = update_inventory(customer_orders,inventory)\n",
    "order_statistics = calculate_order_statistics(customer_orders,inventory)\n",
    "print_order_statistics(order_statistics)\n",
    "print(\"Update inventory:\")\n",
    "print_updated_inventory(inventory)\n",
    "prices = price(customer_orders)\n",
    "print_price(prices)\n",
    "total_price(prices)"
   ]
  }
 ],
 "metadata": {
  "kernelspec": {
   "display_name": "pilar",
   "language": "python",
   "name": "python3"
  },
  "language_info": {
   "codemirror_mode": {
    "name": "ipython",
    "version": 3
   },
   "file_extension": ".py",
   "mimetype": "text/x-python",
   "name": "python",
   "nbconvert_exporter": "python",
   "pygments_lexer": "ipython3",
   "version": "3.6.2"
  }
 },
 "nbformat": 4,
 "nbformat_minor": 5
}
